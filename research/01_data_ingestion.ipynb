{
 "cells": [
  {
   "cell_type": "code",
   "execution_count": 1,
   "metadata": {},
   "outputs": [],
   "source": [
    "import os"
   ]
  },
  {
   "cell_type": "code",
   "execution_count": 2,
   "metadata": {},
   "outputs": [
    {
     "data": {
      "text/plain": [
       "'d:\\\\PW_DS\\\\Deep Learning\\\\End-To-End-Plant-Disease-Classification-using-CNN\\\\research'"
      ]
     },
     "execution_count": 2,
     "metadata": {},
     "output_type": "execute_result"
    }
   ],
   "source": [
    "os.getcwd()"
   ]
  },
  {
   "cell_type": "code",
   "execution_count": 3,
   "metadata": {},
   "outputs": [],
   "source": [
    "os.chdir('..')"
   ]
  },
  {
   "cell_type": "code",
   "execution_count": 4,
   "metadata": {},
   "outputs": [
    {
     "data": {
      "text/plain": [
       "'d:\\\\PW_DS\\\\Deep Learning\\\\End-To-End-Plant-Disease-Classification-using-CNN'"
      ]
     },
     "execution_count": 4,
     "metadata": {},
     "output_type": "execute_result"
    }
   ],
   "source": [
    "pwd"
   ]
  },
  {
   "cell_type": "code",
   "execution_count": null,
   "metadata": {},
   "outputs": [],
   "source": []
  },
  {
   "cell_type": "markdown",
   "metadata": {},
   "source": [
    "## Entity"
   ]
  },
  {
   "cell_type": "code",
   "execution_count": 5,
   "metadata": {},
   "outputs": [],
   "source": [
    "from dataclasses import  dataclass\n",
    "from pathlib import Path"
   ]
  },
  {
   "cell_type": "code",
   "execution_count": 6,
   "metadata": {},
   "outputs": [],
   "source": [
    "@dataclass(frozen=True)\n",
    "class DataIngestionConfig:\n",
    "    root_dir: Path\n",
    "    kaggle_URL: Path\n",
    "    kaggle_file:Path"
   ]
  },
  {
   "cell_type": "code",
   "execution_count": null,
   "metadata": {},
   "outputs": [],
   "source": []
  },
  {
   "cell_type": "markdown",
   "metadata": {},
   "source": [
    "## Config Manager"
   ]
  },
  {
   "cell_type": "code",
   "execution_count": 7,
   "metadata": {},
   "outputs": [],
   "source": [
    "from plant_disease_clf.utils.common import  create_directories, read_yaml\n",
    "from plant_disease_clf.constants import  *"
   ]
  },
  {
   "cell_type": "code",
   "execution_count": 8,
   "metadata": {},
   "outputs": [],
   "source": [
    "class ConfigManager:\n",
    "    def __init__(self,\n",
    "        config_file_path = CONFIG_FILE_PATH,\n",
    "        params_file_path = PARAMS_FILE_PATH):\n",
    "        self.config = read_yaml(config_file_path)\n",
    "        self.params = read_yaml(params_file_path)\n",
    "\n",
    "        create_directories([self.config.artifacts_root])\n",
    "    \n",
    "    def get_data_ingestion_config(self) -> DataIngestionConfig:\n",
    "        self.config = self.config.data_ingestion\n",
    "        \n",
    "        return DataIngestionConfig(\n",
    "            root_dir = self.config.root_dir,\n",
    "            kaggle_URL = self.config.kaggle_URL,\n",
    "            kaggle_file = self.config.kaggle_file\n",
    "        )\n",
    "\n",
    "        "
   ]
  },
  {
   "cell_type": "code",
   "execution_count": null,
   "metadata": {},
   "outputs": [],
   "source": []
  },
  {
   "cell_type": "markdown",
   "metadata": {},
   "source": [
    "## Components"
   ]
  },
  {
   "cell_type": "code",
   "execution_count": 9,
   "metadata": {},
   "outputs": [],
   "source": [
    "import os,sys\n",
    "import requests\n",
    "import zipfile\n",
    "import kaggle\n",
    "from pathlib import  Path\n",
    "\n",
    "from plant_disease_clf.logger import  logging\n",
    "from plant_disease_clf.exception import  CustomException\n",
    "\n"
   ]
  },
  {
   "cell_type": "code",
   "execution_count": 10,
   "metadata": {},
   "outputs": [],
   "source": [
    "class DataIngestion:\n",
    "    def __init__(self, config: DataIngestionConfig):\n",
    "        self.config = config\n",
    "\n",
    "    def get_data(self):\n",
    "        try:\n",
    "\n",
    "            kaggle_url = self.config.kaggle_URL\n",
    "            output_dir = self.config.root_dir\n",
    "            zip_file_path = self.config.kaggle_file\n",
    "\n",
    "            kaggle_url = kaggle_url.split('/')\n",
    "\n",
    "            print(kaggle_url[-2])\n",
    "            print(kaggle_url[-3])\n",
    "            kaggle_url = kaggle_url[-3] + '/' + kaggle_url[-2]\n",
    "            \n",
    "            # Create the output directory if it doesn't exist\n",
    "            # os.makedirs(output_dir, exist_ok=True)\n",
    "            \n",
    "            # Download the dataset\n",
    "            # response = requests.get(kaggle_url)\n",
    "            \n",
    "            # # Save the downloaded dataset to a file\n",
    "            # dataset_file_path = os.path.join(output_dir, 'dataset.zip')\n",
    "            # with open(dataset_file_path, 'wb') as file:\n",
    "            #     file.write(response.content)\n",
    "\n",
    "            # os.system('kaggle datasets download -d {kaggle_url[-3]}/{kaggle_url[-2]} -p {output_dir}')\n",
    "            kaggle.api.dataset_download_files(kaggle_url, path=output_dir, unzip=False)\n",
    "            \n",
    "            # Unzip the dataset\n",
    "            with zipfile.ZipFile(zip_file_path, 'r') as zip_ref:\n",
    "                zip_ref.extractall(output_dir)\n",
    "                    \n",
    "            # # Remove the downloaded zip file\n",
    "            # os.remove(dataset_file_path)\n",
    "            \n",
    "\n",
    "        except Exception as e:\n",
    "            raise CustomException(e,sys)"
   ]
  },
  {
   "cell_type": "markdown",
   "metadata": {},
   "source": [
    "## Pipeline"
   ]
  },
  {
   "cell_type": "code",
   "execution_count": 12,
   "metadata": {},
   "outputs": [
    {
     "name": "stdout",
     "output_type": "stream",
     "text": [
      "plant-disease-balanced\n",
      "muhammadmaazsayyed\n"
     ]
    }
   ],
   "source": [
    "try:\n",
    "    config_manager = ConfigManager()\n",
    "    config = config_manager.get_data_ingestion_config()\n",
    "    data_ingestion = DataIngestion(config=config)\n",
    "    data_ingestion.get_data()\n",
    "except Exception as e:\n",
    "    raise CustomException(e,sys)"
   ]
  },
  {
   "cell_type": "code",
   "execution_count": null,
   "metadata": {},
   "outputs": [],
   "source": []
  }
 ],
 "metadata": {
  "kernelspec": {
   "display_name": "plants",
   "language": "python",
   "name": "python3"
  },
  "language_info": {
   "codemirror_mode": {
    "name": "ipython",
    "version": 3
   },
   "file_extension": ".py",
   "mimetype": "text/x-python",
   "name": "python",
   "nbconvert_exporter": "python",
   "pygments_lexer": "ipython3",
   "version": "3.8.0"
  }
 },
 "nbformat": 4,
 "nbformat_minor": 2
}
