{
 "cells": [
  {
   "cell_type": "code",
   "execution_count": 1,
   "metadata": {},
   "outputs": [],
   "source": [
    "import os"
   ]
  },
  {
   "cell_type": "code",
   "execution_count": 2,
   "metadata": {},
   "outputs": [
    {
     "data": {
      "text/plain": [
       "'d:\\\\PW_DS\\\\Deep Learning\\\\End-To-End-Plant-Disease-Classification-using-CNN\\\\research'"
      ]
     },
     "execution_count": 2,
     "metadata": {},
     "output_type": "execute_result"
    }
   ],
   "source": [
    "pwd"
   ]
  },
  {
   "cell_type": "code",
   "execution_count": 3,
   "metadata": {},
   "outputs": [],
   "source": [
    "os.chdir('..')"
   ]
  },
  {
   "cell_type": "code",
   "execution_count": 4,
   "metadata": {},
   "outputs": [
    {
     "data": {
      "text/plain": [
       "'d:\\\\PW_DS\\\\Deep Learning\\\\End-To-End-Plant-Disease-Classification-using-CNN'"
      ]
     },
     "execution_count": 4,
     "metadata": {},
     "output_type": "execute_result"
    }
   ],
   "source": [
    "pwd"
   ]
  },
  {
   "cell_type": "code",
   "execution_count": null,
   "metadata": {},
   "outputs": [],
   "source": []
  },
  {
   "cell_type": "markdown",
   "metadata": {},
   "source": [
    "## Entity"
   ]
  },
  {
   "cell_type": "code",
   "execution_count": 5,
   "metadata": {},
   "outputs": [],
   "source": [
    "from dataclasses import  dataclass\n",
    "from pathlib import  Path"
   ]
  },
  {
   "cell_type": "code",
   "execution_count": 6,
   "metadata": {},
   "outputs": [],
   "source": [
    "@dataclass(frozen=True)\n",
    "class Training:\n",
    "    root_dir: Path\n",
    "    model_path: Path\n",
    "    model_metrics_path: Path\n",
    "    data: Path\n",
    "    updated_model_path: Path\n",
    "    INPUT_SHAPE: list\n",
    "    BATCH_SIZE: int\n",
    "    SHUFFLE: bool\n",
    "    VALIDATION_SPLIT: float\n",
    "    LABEL_MODEL: str\n",
    "    EPOCHS: int\n",
    "    AUGMENTED: bool\n",
    "\n",
    "    "
   ]
  },
  {
   "cell_type": "code",
   "execution_count": null,
   "metadata": {},
   "outputs": [],
   "source": []
  },
  {
   "cell_type": "markdown",
   "metadata": {},
   "source": [
    "## Config Manager"
   ]
  },
  {
   "cell_type": "code",
   "execution_count": 7,
   "metadata": {},
   "outputs": [],
   "source": [
    "from plant_disease_clf.utils.common import  create_directories, read_yaml\n",
    "from plant_disease_clf.constants import  *"
   ]
  },
  {
   "cell_type": "code",
   "execution_count": 8,
   "metadata": {},
   "outputs": [],
   "source": [
    "class ConfigManager:\n",
    "    def __init__(self,\n",
    "        config_file_path = CONFIG_FILE_PATH,\n",
    "        params_file_path = PARAMS_FILE_PATH):\n",
    "\n",
    "        self.config = read_yaml(config_file_path)\n",
    "        self.params = read_yaml(params_file_path)\n",
    "\n",
    "        create_directories([self.config.artifacts_root])\n",
    "\n",
    "    def get_model_training_config(self):\n",
    "\n",
    "        self.config = self.config.model_training\n",
    "        self.params = self.params.resnet50\n",
    "\n",
    "        create_directories([self.config.root_dir])\n",
    "\n",
    "        return Training (\n",
    "            root_dir = Path(self.config.root_dir),\n",
    "            model_path = Path(self.config.model_path),\n",
    "            model_metrics_path = Path(self.config.model_metrics_path),\n",
    "            data = Path(self.config.data),\n",
    "            updated_model_path = Path(self.config.updated_model_path),\n",
    "            INPUT_SHAPE = self.params.INPUT_SHAPE,\n",
    "            BATCH_SIZE = self.params.BATCH_SIZE,\n",
    "            SHUFFLE = self.params.SHUFFLE,\n",
    "            VALIDATION_SPLIT = self.params.VALIDATION_SPLIT,\n",
    "            LABEL_MODEL = self.params.LABEL_MODEL,\n",
    "            EPOCHS = self.params.EPOCHS,\n",
    "            AUGMENTED = self.params.AUGMENTED\n",
    "        )\n",
    "\n"
   ]
  },
  {
   "cell_type": "code",
   "execution_count": null,
   "metadata": {},
   "outputs": [],
   "source": []
  },
  {
   "cell_type": "markdown",
   "metadata": {},
   "source": [
    "## Components"
   ]
  },
  {
   "cell_type": "code",
   "execution_count": 9,
   "metadata": {},
   "outputs": [],
   "source": [
    "import os,sys\n",
    "from pathlib import Path\n",
    "from plant_disease_clf.logger import  logging\n",
    "from plant_disease_clf.exception import  CustomException\n",
    "\n",
    "from plant_disease_clf.utils.common import  save_json\n",
    "\n",
    "import tensorflow as tf\n",
    "from plant_disease_clf.pipeline.stage_03_prepare_callbacks import  CallbacksPipeline"
   ]
  },
  {
   "cell_type": "code",
   "execution_count": 10,
   "metadata": {},
   "outputs": [],
   "source": [
    "# class ModelTraining:\n",
    "#     def __init__(self, config: Training):\n",
    "#         self.config = config\n",
    "    \n",
    "#     def get_updated_model(self):\n",
    "#         return tf.keras.models.load_model(self.config.updated_model_path)\n",
    "\n",
    "\n",
    "#     def train(self):\n",
    "#         try:\n",
    "#             logging.info(f\"Training the model with the following config: {self.config}\")\n",
    "\n",
    "#             callbacks = CallbacksPipeline()\n",
    "#             callbacks_list = callbacks.main()\n",
    "\n",
    "# # -------------------------------------------------------------------------------------------------------------------------------------\n",
    "            # train_data, val_data = tf.keras.utils.image_dataset_from_directory(\n",
    "            #     directory = self.config.data,\n",
    "            #     labels = \"inferred\",\n",
    "            #     label_mode = self.config.LABEL_MODEL,\n",
    "            #     batch_size = self.config.BATCH_SIZE,\n",
    "            #     image_size = self.config.INPUT_SHAPE,\n",
    "            #     shuffle = self.config.SHUFFLE,\n",
    "            #     seed = 42,  #--------------------- add this for splitting the data\n",
    "            #     validation_split = self.config.VALIDATION_SPLIT,\n",
    "            #     subset = self.config.SUBSET,\n",
    "            #     interpolation = \"bilinear\",\n",
    "            # )\n",
    "            # train_data_samples = tf.data.experimental.cardinality(train_data).numpy()\n",
    "            # val_data_samples = tf.data.experimental.cardinality(val_data).numpy()\n",
    "# # -------------------------------------------------------------------------------------------------------------------------------------\n",
    "#             data_generator_kwargs = dict(\n",
    "#                 rescale = 1./255,\n",
    "#                 validation_split = 0.20\n",
    "#             )\n",
    "\n",
    "#             data_flow_kwargs = dict(\n",
    "#                 target_size = self.config.INPUT_SHAPE[:-1],\n",
    "#                 batch_size = self.config.BATCH_SIZE,\n",
    "#                 interpolation = 'bilinear'\n",
    "#             )\n",
    "\n",
    "\n",
    "#             valid_data_gen = tf.keras.preprocessing.image.ImageDataGenerator(\n",
    "#                 **data_generator_kwargs\n",
    "#             )\n",
    "\n",
    "#             val_data = valid_data_gen.flow_from_directory(\n",
    "#                 directory = self.config.data,\n",
    "#                 class_mode = self.config.LABEL_MODEL,\n",
    "#                 shuffle = self.config.SHUFFLE,\n",
    "#                 seed = 42,  #--------------------- add this for splitting the data\n",
    "#                 subset = 'validation',\n",
    "#                 # interpolation = \"bilinear\",\n",
    "#                 **data_flow_kwargs\n",
    "#             )\n",
    "\n",
    "#             if self.config.AUGMENTED:\n",
    "#                 train_data_gen= tf.keras.preprocessing.image.ImageDataGenerator(\n",
    "#                     rotation_range = 40,\n",
    "#                     horizontal_flip = True,\n",
    "#                     width_shift_range = 0.2,\n",
    "#                     height_shift_range = 0.2,\n",
    "#                     shear_range = 0.2,\n",
    "#                     zoom_range = 0.2,\n",
    "#                     **data_generator_kwargs\n",
    "#                 )\n",
    "\n",
    "#             else:\n",
    "#                 train_data_gen = tf.keras.preprocessing.image.ImageDataGenerator(\n",
    "#                     **data_generator_kwargs\n",
    "#                 )\n",
    "\n",
    "#             train_data = train_data_gen.flow_from_directory(\n",
    "#                 directory = self.config.data,\n",
    "#                 class_mode = self.config.LABEL_MODEL,\n",
    "#                 shuffle = True, ### \n",
    "#                 # seed = 42,  #--------------------- add this for splitting the data\n",
    "#                 subset = 'training',\n",
    "#                 # interpolation = \"bilinear\",\n",
    "#                 **data_flow_kwargs\n",
    "#             )\n",
    "\n",
    "#             model = self.get_updated_model()\n",
    "\n",
    "#             print(callbacks_list)\n",
    "#             print(model.summary())\n",
    "\n",
    "#             # history = model.fit(\n",
    "#             #     train_data,\n",
    "#             #     epochs = self.config.EPOCHS,\n",
    "#             #     validation_data = val_data,\n",
    "#             #     callbacks = callbacks_list\n",
    "#             # )\n",
    "\n",
    "            \n",
    "#             self.steps_per_epoch = train_data.samples // self.config.BATCH_SIZE\n",
    "\n",
    "#             self.validation_steps = val_data.samples // self.config.BATCH_SIZE \n",
    "\n",
    "\n",
    "#             history = model.fit(\n",
    "#                 train_data,\n",
    "#                 steps_per_epoch = self.steps_per_epoch,\n",
    "#                 epochs = self.config.EPOCHS,\n",
    "#                 validation_data = val_data,\n",
    "#                 validation_steps = self.validation_steps,\n",
    "#                 callbacks = callbacks_list\n",
    "#             )\n",
    "\n",
    "#             # tf.keras.models.save_model(model, self.config.model_path)\n",
    "#             # save_json(self.config.model_metrics_path, history.history)\n",
    "#             logging.info(\"Model training completed successfully\")\n",
    "\n",
    "\n",
    "#         except Exception as e:\n",
    "#             logging.error(f\"Model training failed: {e}\")\n",
    "#             raise CustomException(e,sys)\n",
    "\n",
    "\n"
   ]
  },
  {
   "cell_type": "code",
   "execution_count": null,
   "metadata": {},
   "outputs": [],
   "source": []
  },
  {
   "cell_type": "markdown",
   "metadata": {},
   "source": [
    "## ------------------------------------"
   ]
  },
  {
   "cell_type": "code",
   "execution_count": 26,
   "metadata": {},
   "outputs": [],
   "source": [
    "class ModelTraining:\n",
    "    def __init__(\n",
    "        self,\n",
    "        config: Training):\n",
    "\n",
    "        self.config = config\n",
    "\n",
    "    \n",
    "    def get_updated_base_model(self):\n",
    "        self.model =  tf.keras.models.load_model(self.config.updated_model_path)\n",
    "\n",
    "\n",
    "    def train_valid_generator(self):\n",
    "\n",
    "        data_generator_kwargs = dict(\n",
    "            rescale = 1./255,\n",
    "            validation_split = self.config.VALIDATION_SPLIT\n",
    "        )\n",
    "\n",
    "        # test_data_generator_kwargs = dict(\n",
    "        #     rescale = 1./255,\n",
    "        #     validation_split = 0.20\n",
    "        # )\n",
    "\n",
    "\n",
    "\n",
    "        data_flow_kwargs = dict(\n",
    "            target_size = self.config.INPUT_SHAPE[:-1],\n",
    "            batch_size = self.config.BATCH_SIZE,\n",
    "            # shuffle = True,\n",
    "            interpolation = 'bilinear'\n",
    "        )\n",
    "\n",
    "        valid_data_generator = tf.keras.preprocessing.image.ImageDataGenerator(\n",
    "            **data_generator_kwargs\n",
    "        )\n",
    "\n",
    "\n",
    "        self.valid_generator = valid_data_generator.flow_from_directory(\n",
    "            directory = self.config.data,\n",
    "            subset = 'validation',\n",
    "            shuffle = False,\n",
    "            class_mode= self.config.LABEL_MODEL,\n",
    "            **data_flow_kwargs\n",
    "        )\n",
    "\n",
    "\n",
    "        # test_data_generator = tf.keras.preprocessing.image.ImageDataGenerator(\n",
    "        #     **test_data_generator_kwargs\n",
    "        # )\n",
    "\n",
    "\n",
    "        # self.test_generator = test_data_generator.flow_from_directory(\n",
    "        #     data = self.valid_generator,\n",
    "        #     subset = 'validation',\n",
    "        #     shuffle = False,\n",
    "        #     class_mode='categorical',\n",
    "        #     **data_flow_kwargs\n",
    "        # )\n",
    "\n",
    "\n",
    "\n",
    "        if self.config.AUGMENTED:\n",
    "            train_data_generator = tf.keras.preprocessing.image.ImageDataGenerator(\n",
    "                rotation_range = 40,\n",
    "                horizontal_flip = True,\n",
    "                width_shift_range = 0.2,\n",
    "                height_shift_range = 0.2,\n",
    "                shear_range = 0.2,\n",
    "                zoom_range = 0.2,\n",
    "                **data_generator_kwargs\n",
    "            )\n",
    "\n",
    "        else:\n",
    "            train_data_generator = tf.keras.preprocessing.image.ImageDataGenerator(\n",
    "                **data_generator_kwargs\n",
    "            )\n",
    "        \n",
    "        self.train_generator = train_data_generator.flow_from_directory(\n",
    "            directory = self.config.data,\n",
    "            subset = 'training',\n",
    "            shuffle = True,\n",
    "            class_mode= self.config.LABEL_MODEL,\n",
    "            **data_flow_kwargs\n",
    "        )\n",
    "\n",
    "    \n",
    "    def get_data(self):\n",
    "            self.train_data, self.val_data = tf.keras.utils.image_dataset_from_directory(\n",
    "            directory = self.config.data,\n",
    "            labels = \"inferred\",\n",
    "            label_mode = self.config.LABEL_MODEL,\n",
    "            batch_size = self.config.BATCH_SIZE,\n",
    "            image_size = self.config.INPUT_SHAPE[:-1],\n",
    "            shuffle = self.config.SHUFFLE,\n",
    "            seed = 42,  #--------------------- add this for splitting the data\n",
    "            validation_split = self.config.VALIDATION_SPLIT,\n",
    "            subset = 'both',\n",
    "            interpolation = \"bilinear\",\n",
    "\n",
    "            )\n",
    "            self.train_data_samples = tf.data.experimental.cardinality(self.train_data).numpy()\n",
    "            self.val_data_samples = tf.data.experimental.cardinality(self.val_data).numpy()\n",
    "\n",
    "            # print(self.train_data['labels'][0], self.val_data['labels'][0])\n",
    "            print(self.train_data.class_names)\n",
    "\n",
    "\n",
    "    @staticmethod\n",
    "    def save_model(path:Path, model:tf.keras.Model):\n",
    "        model.save(path)\n",
    "    \n",
    "\n",
    "    def train(self):\n",
    "        self.steps_per_epoch = self.train_data_samples// self.config.BATCH_SIZE\n",
    "\n",
    "        self.validation_steps = self.val_data_samples // self.config.BATCH_SIZE\n",
    "\n",
    "        callbacks = CallbacksPipeline()\n",
    "        callbacks_list = callbacks.main()\n",
    "\n",
    "        history = self.model.fit(\n",
    "            self.train_data,\n",
    "            steps_per_epoch = self.steps_per_epoch,\n",
    "            epochs = self.config.EPOCHS,\n",
    "            validation_data = self.val_data,\n",
    "            validation_steps = self.validation_steps,\n",
    "            callbacks = callbacks_list\n",
    "        )\n",
    "\n",
    "        save_json(self.config.model_metrics_path, history.history)\n",
    "        \n",
    "\n",
    "        self.save_model(\n",
    "            path = self.config.model_path,\n",
    "            model =self.model\n",
    "        )\n",
    "\n",
    "\n"
   ]
  },
  {
   "cell_type": "code",
   "execution_count": null,
   "metadata": {},
   "outputs": [],
   "source": []
  },
  {
   "cell_type": "markdown",
   "metadata": {},
   "source": []
  },
  {
   "cell_type": "markdown",
   "metadata": {},
   "source": [
    "## Pipeline"
   ]
  },
  {
   "cell_type": "code",
   "execution_count": 27,
   "metadata": {},
   "outputs": [
    {
     "name": "stdout",
     "output_type": "stream",
     "text": [
      "Found 35614 files belonging to 20 classes.\n",
      "Using 28492 files for training.\n",
      "Using 7122 files for validation.\n",
      "['01_Apple_Apple scab', '02_Apple_Black_rot', '03_Apple_Cedar apple rust', '04_Apple_healthy', '05_Corn_(maize) healthy', '06_Corn_Blight in corn Leaf', '07_Corn_Gray Leaf Spot in corn Leaf', '08_Grape_Black rot', '09_Grape_Esca Black Measles', '10_Grape_healthy', '11_Grape_Leaf blight Isariopsis Leaf Spot', '12_Potato_Early blight', '13_Potato_healthy', '14_Potato_Late blight', '15_Tomato_Bacterial spot', '16_Tomato_Early blight', '17_Tomato_healthy', '18_Tomato_Late blight', '19_Tomato_Septoria leaf spot', '20_Tomato_Tomato mosaic virus']\n",
      "Epoch 1/2\n",
      "27/27 [==============================] - ETA: 0s - loss: 0.2620 - accuracy: 0.9630"
     ]
    },
    {
     "ename": "CustomException",
     "evalue": "Error occured in python script name [C:\\Users\\Maaz\\AppData\\Local\\Temp\\ipykernel_27924\\3353754261.py] line number [9] error occured is [{{function_node __wrapped__OneHot_device_/job:localhost/replica:0/task:0/device:CPU:0}} OOM when allocating tensor with shape[25690112,30] and type double on /job:localhost/replica:0/task:0/device:CPU:0 by allocator cpu [Op:OneHot] name: ].",
     "output_type": "error",
     "traceback": [
      "\u001b[1;31m---------------------------------------------------------------------------\u001b[0m",
      "\u001b[1;31mResourceExhaustedError\u001b[0m                    Traceback (most recent call last)",
      "Cell \u001b[1;32mIn[27], line 9\u001b[0m\n\u001b[0;32m      8\u001b[0m     training\u001b[38;5;241m.\u001b[39mget_data()\n\u001b[1;32m----> 9\u001b[0m     \u001b[43mtraining\u001b[49m\u001b[38;5;241;43m.\u001b[39;49m\u001b[43mtrain\u001b[49m\u001b[43m(\u001b[49m\u001b[43m)\u001b[49m\n\u001b[0;32m     11\u001b[0m \u001b[38;5;28;01mexcept\u001b[39;00m \u001b[38;5;167;01mException\u001b[39;00m \u001b[38;5;28;01mas\u001b[39;00m e:\n",
      "Cell \u001b[1;32mIn[26], line 122\u001b[0m, in \u001b[0;36mModelTraining.train\u001b[1;34m(self)\u001b[0m\n\u001b[0;32m    120\u001b[0m callbacks_list \u001b[38;5;241m=\u001b[39m callbacks\u001b[38;5;241m.\u001b[39mmain()\n\u001b[1;32m--> 122\u001b[0m history \u001b[38;5;241m=\u001b[39m \u001b[38;5;28;43mself\u001b[39;49m\u001b[38;5;241;43m.\u001b[39;49m\u001b[43mmodel\u001b[49m\u001b[38;5;241;43m.\u001b[39;49m\u001b[43mfit\u001b[49m\u001b[43m(\u001b[49m\n\u001b[0;32m    123\u001b[0m \u001b[43m    \u001b[49m\u001b[38;5;28;43mself\u001b[39;49m\u001b[38;5;241;43m.\u001b[39;49m\u001b[43mtrain_data\u001b[49m\u001b[43m,\u001b[49m\n\u001b[0;32m    124\u001b[0m \u001b[43m    \u001b[49m\u001b[43msteps_per_epoch\u001b[49m\u001b[43m \u001b[49m\u001b[38;5;241;43m=\u001b[39;49m\u001b[43m \u001b[49m\u001b[38;5;28;43mself\u001b[39;49m\u001b[38;5;241;43m.\u001b[39;49m\u001b[43msteps_per_epoch\u001b[49m\u001b[43m,\u001b[49m\n\u001b[0;32m    125\u001b[0m \u001b[43m    \u001b[49m\u001b[43mepochs\u001b[49m\u001b[43m \u001b[49m\u001b[38;5;241;43m=\u001b[39;49m\u001b[43m \u001b[49m\u001b[38;5;28;43mself\u001b[39;49m\u001b[38;5;241;43m.\u001b[39;49m\u001b[43mconfig\u001b[49m\u001b[38;5;241;43m.\u001b[39;49m\u001b[43mEPOCHS\u001b[49m\u001b[43m,\u001b[49m\n\u001b[0;32m    126\u001b[0m \u001b[43m    \u001b[49m\u001b[43mvalidation_data\u001b[49m\u001b[43m \u001b[49m\u001b[38;5;241;43m=\u001b[39;49m\u001b[43m \u001b[49m\u001b[38;5;28;43mself\u001b[39;49m\u001b[38;5;241;43m.\u001b[39;49m\u001b[43mval_data\u001b[49m\u001b[43m,\u001b[49m\n\u001b[0;32m    127\u001b[0m \u001b[43m    \u001b[49m\u001b[43mvalidation_steps\u001b[49m\u001b[43m \u001b[49m\u001b[38;5;241;43m=\u001b[39;49m\u001b[43m \u001b[49m\u001b[38;5;28;43mself\u001b[39;49m\u001b[38;5;241;43m.\u001b[39;49m\u001b[43mvalidation_steps\u001b[49m\u001b[43m,\u001b[49m\n\u001b[0;32m    128\u001b[0m \u001b[43m    \u001b[49m\u001b[43mcallbacks\u001b[49m\u001b[43m \u001b[49m\u001b[38;5;241;43m=\u001b[39;49m\u001b[43m \u001b[49m\u001b[43mcallbacks_list\u001b[49m\n\u001b[0;32m    129\u001b[0m \u001b[43m\u001b[49m\u001b[43m)\u001b[49m\n\u001b[0;32m    131\u001b[0m save_json(\u001b[38;5;28mself\u001b[39m\u001b[38;5;241m.\u001b[39mconfig\u001b[38;5;241m.\u001b[39mmodel_metrics_path, history\u001b[38;5;241m.\u001b[39mhistory)\n",
      "File \u001b[1;32mc:\\Users\\Maaz\\anaconda3\\envs\\plants\\lib\\site-packages\\keras\\src\\utils\\traceback_utils.py:70\u001b[0m, in \u001b[0;36mfilter_traceback.<locals>.error_handler\u001b[1;34m(*args, **kwargs)\u001b[0m\n\u001b[0;32m     68\u001b[0m     \u001b[38;5;66;03m# To get the full stack trace, call:\u001b[39;00m\n\u001b[0;32m     69\u001b[0m     \u001b[38;5;66;03m# `tf.debugging.disable_traceback_filtering()`\u001b[39;00m\n\u001b[1;32m---> 70\u001b[0m     \u001b[38;5;28;01mraise\u001b[39;00m e\u001b[38;5;241m.\u001b[39mwith_traceback(filtered_tb) \u001b[38;5;28;01mfrom\u001b[39;00m \u001b[38;5;28;01mNone\u001b[39;00m\n\u001b[0;32m     71\u001b[0m \u001b[38;5;28;01mfinally\u001b[39;00m:\n",
      "File \u001b[1;32mc:\\Users\\Maaz\\anaconda3\\envs\\plants\\lib\\site-packages\\tensorboard\\plugins\\histogram\\summary_v2.py:196\u001b[0m, in \u001b[0;36mhistogram\u001b[1;34m(name, data, step, buckets, description)\u001b[0m\n\u001b[0;32m    194\u001b[0m     \u001b[38;5;28;01mreturn\u001b[39;00m _buckets(data, buckets)\n\u001b[1;32m--> 196\u001b[0m \u001b[38;5;28;01mreturn\u001b[39;00m tf\u001b[38;5;241m.\u001b[39msummary\u001b[38;5;241m.\u001b[39mwrite(\n\u001b[0;32m    197\u001b[0m     tag\u001b[38;5;241m=\u001b[39mtag,\n\u001b[0;32m    198\u001b[0m     tensor\u001b[38;5;241m=\u001b[39mlazy_tensor,\n\u001b[0;32m    199\u001b[0m     step\u001b[38;5;241m=\u001b[39mstep,\n\u001b[0;32m    200\u001b[0m     metadata\u001b[38;5;241m=\u001b[39msummary_metadata,\n\u001b[0;32m    201\u001b[0m )\n",
      "File \u001b[1;32mc:\\Users\\Maaz\\anaconda3\\envs\\plants\\lib\\site-packages\\tensorboard\\util\\lazy_tensor_creator.py:66\u001b[0m, in \u001b[0;36mLazyTensorCreator.__call__\u001b[1;34m(self)\u001b[0m\n\u001b[0;32m     65\u001b[0m             \u001b[38;5;28mself\u001b[39m\u001b[38;5;241m.\u001b[39m_tensor \u001b[38;5;241m=\u001b[39m _CALL_IN_PROGRESS_SENTINEL\n\u001b[1;32m---> 66\u001b[0m             \u001b[38;5;28mself\u001b[39m\u001b[38;5;241m.\u001b[39m_tensor \u001b[38;5;241m=\u001b[39m \u001b[38;5;28mself\u001b[39m\u001b[38;5;241m.\u001b[39m_tensor_callable()\n\u001b[0;32m     67\u001b[0m \u001b[38;5;28;01mreturn\u001b[39;00m \u001b[38;5;28mself\u001b[39m\u001b[38;5;241m.\u001b[39m_tensor\n",
      "File \u001b[1;32mc:\\Users\\Maaz\\anaconda3\\envs\\plants\\lib\\site-packages\\tensorboard\\plugins\\histogram\\summary_v2.py:194\u001b[0m, in \u001b[0;36mhistogram.<locals>.lazy_tensor\u001b[1;34m()\u001b[0m\n\u001b[0;32m    192\u001b[0m \u001b[38;5;129m@lazy_tensor_creator\u001b[39m\u001b[38;5;241m.\u001b[39mLazyTensorCreator\n\u001b[0;32m    193\u001b[0m \u001b[38;5;28;01mdef\u001b[39;00m \u001b[38;5;21mlazy_tensor\u001b[39m():\n\u001b[1;32m--> 194\u001b[0m     \u001b[38;5;28;01mreturn\u001b[39;00m \u001b[43m_buckets\u001b[49m\u001b[43m(\u001b[49m\u001b[43mdata\u001b[49m\u001b[43m,\u001b[49m\u001b[43m \u001b[49m\u001b[43mbuckets\u001b[49m\u001b[43m)\u001b[49m\n",
      "File \u001b[1;32mc:\\Users\\Maaz\\anaconda3\\envs\\plants\\lib\\site-packages\\tensorboard\\plugins\\histogram\\summary_v2.py:293\u001b[0m, in \u001b[0;36m_buckets\u001b[1;34m(data, bucket_count)\u001b[0m\n\u001b[0;32m    289\u001b[0m     \u001b[38;5;28;01mreturn\u001b[39;00m tf\u001b[38;5;241m.\u001b[39mcond(\n\u001b[0;32m    290\u001b[0m         has_single_value, when_single_value, when_multiple_values\n\u001b[0;32m    291\u001b[0m     )\n\u001b[1;32m--> 293\u001b[0m \u001b[38;5;28;01mreturn\u001b[39;00m tf\u001b[38;5;241m.\u001b[39mcond(is_empty, when_empty, when_nonempty)\n",
      "File \u001b[1;32mc:\\Users\\Maaz\\anaconda3\\envs\\plants\\lib\\site-packages\\tensorboard\\plugins\\histogram\\summary_v2.py:289\u001b[0m, in \u001b[0;36m_buckets.<locals>.when_nonempty\u001b[1;34m()\u001b[0m\n\u001b[0;32m    287\u001b[0m     \u001b[38;5;28;01mreturn\u001b[39;00m tf\u001b[38;5;241m.\u001b[39mtranspose(a\u001b[38;5;241m=\u001b[39mtf\u001b[38;5;241m.\u001b[39mstack([edges, edges, bucket_counts]))\n\u001b[1;32m--> 289\u001b[0m \u001b[38;5;28;01mreturn\u001b[39;00m \u001b[43mtf\u001b[49m\u001b[38;5;241;43m.\u001b[39;49m\u001b[43mcond\u001b[49m\u001b[43m(\u001b[49m\n\u001b[0;32m    290\u001b[0m \u001b[43m    \u001b[49m\u001b[43mhas_single_value\u001b[49m\u001b[43m,\u001b[49m\u001b[43m \u001b[49m\u001b[43mwhen_single_value\u001b[49m\u001b[43m,\u001b[49m\u001b[43m \u001b[49m\u001b[43mwhen_multiple_values\u001b[49m\n\u001b[0;32m    291\u001b[0m \u001b[43m\u001b[49m\u001b[43m)\u001b[49m\n",
      "File \u001b[1;32mc:\\Users\\Maaz\\anaconda3\\envs\\plants\\lib\\site-packages\\tensorboard\\plugins\\histogram\\summary_v2.py:258\u001b[0m, in \u001b[0;36m_buckets.<locals>.when_nonempty.<locals>.when_multiple_values\u001b[1;34m()\u001b[0m\n\u001b[0;32m    255\u001b[0m \u001b[38;5;66;03m# Use float64 instead of float32 to avoid accumulating floating point error\u001b[39;00m\n\u001b[0;32m    256\u001b[0m \u001b[38;5;66;03m# later in tf.reduce_sum when summing more than 2^24 individual `1.0` values.\u001b[39;00m\n\u001b[0;32m    257\u001b[0m \u001b[38;5;66;03m# See https://github.com/tensorflow/tensorflow/issues/51419 for details.\u001b[39;00m\n\u001b[1;32m--> 258\u001b[0m one_hots \u001b[38;5;241m=\u001b[39m \u001b[43mtf\u001b[49m\u001b[38;5;241;43m.\u001b[39;49m\u001b[43mone_hot\u001b[49m\u001b[43m(\u001b[49m\n\u001b[0;32m    259\u001b[0m \u001b[43m    \u001b[49m\u001b[43mclamped_indices\u001b[49m\u001b[43m,\u001b[49m\u001b[43m \u001b[49m\u001b[43mdepth\u001b[49m\u001b[38;5;241;43m=\u001b[39;49m\u001b[43mbucket_count\u001b[49m\u001b[43m,\u001b[49m\u001b[43m \u001b[49m\u001b[43mdtype\u001b[49m\u001b[38;5;241;43m=\u001b[39;49m\u001b[43mtf\u001b[49m\u001b[38;5;241;43m.\u001b[39;49m\u001b[43mfloat64\u001b[49m\n\u001b[0;32m    260\u001b[0m \u001b[43m\u001b[49m\u001b[43m)\u001b[49m\n\u001b[0;32m    261\u001b[0m bucket_counts \u001b[38;5;241m=\u001b[39m tf\u001b[38;5;241m.\u001b[39mcast(\n\u001b[0;32m    262\u001b[0m     tf\u001b[38;5;241m.\u001b[39mreduce_sum(input_tensor\u001b[38;5;241m=\u001b[39mone_hots, axis\u001b[38;5;241m=\u001b[39m\u001b[38;5;241m0\u001b[39m),\n\u001b[0;32m    263\u001b[0m     dtype\u001b[38;5;241m=\u001b[39mtf\u001b[38;5;241m.\u001b[39mfloat64,\n\u001b[0;32m    264\u001b[0m )\n",
      "\u001b[1;31mResourceExhaustedError\u001b[0m: {{function_node __wrapped__OneHot_device_/job:localhost/replica:0/task:0/device:CPU:0}} OOM when allocating tensor with shape[25690112,30] and type double on /job:localhost/replica:0/task:0/device:CPU:0 by allocator cpu [Op:OneHot] name: ",
      "\nDuring handling of the above exception, another exception occurred:\n",
      "\u001b[1;31mCustomException\u001b[0m                           Traceback (most recent call last)",
      "Cell \u001b[1;32mIn[27], line 12\u001b[0m\n\u001b[0;32m      9\u001b[0m     training\u001b[38;5;241m.\u001b[39mtrain()\n\u001b[0;32m     11\u001b[0m \u001b[38;5;28;01mexcept\u001b[39;00m \u001b[38;5;167;01mException\u001b[39;00m \u001b[38;5;28;01mas\u001b[39;00m e:\n\u001b[1;32m---> 12\u001b[0m     \u001b[38;5;28;01mraise\u001b[39;00m CustomException(e,sys)\n",
      "\u001b[1;31mCustomException\u001b[0m: Error occured in python script name [C:\\Users\\Maaz\\AppData\\Local\\Temp\\ipykernel_27924\\3353754261.py] line number [9] error occured is [{{function_node __wrapped__OneHot_device_/job:localhost/replica:0/task:0/device:CPU:0}} OOM when allocating tensor with shape[25690112,30] and type double on /job:localhost/replica:0/task:0/device:CPU:0 by allocator cpu [Op:OneHot] name: ]."
     ]
    }
   ],
   "source": [
    "\n",
    "\n",
    "try:\n",
    "    config_manager = ConfigManager()\n",
    "    config = config_manager.get_model_training_config()\n",
    "    training = ModelTraining(config)\n",
    "    training.get_updated_base_model()\n",
    "    # training.train_valid_generator()\n",
    "    training.get_data()\n",
    "    training.train()\n",
    "\n",
    "except Exception as e:\n",
    "    raise CustomException(e,sys)"
   ]
  },
  {
   "cell_type": "code",
   "execution_count": null,
   "metadata": {},
   "outputs": [],
   "source": []
  },
  {
   "cell_type": "code",
   "execution_count": null,
   "metadata": {},
   "outputs": [],
   "source": []
  },
  {
   "cell_type": "code",
   "execution_count": null,
   "metadata": {},
   "outputs": [],
   "source": []
  },
  {
   "cell_type": "code",
   "execution_count": null,
   "metadata": {},
   "outputs": [],
   "source": []
  }
 ],
 "metadata": {
  "kernelspec": {
   "display_name": "plants",
   "language": "python",
   "name": "python3"
  },
  "language_info": {
   "codemirror_mode": {
    "name": "ipython",
    "version": 3
   },
   "file_extension": ".py",
   "mimetype": "text/x-python",
   "name": "python",
   "nbconvert_exporter": "python",
   "pygments_lexer": "ipython3",
   "version": "3.8.0"
  }
 },
 "nbformat": 4,
 "nbformat_minor": 2
}
